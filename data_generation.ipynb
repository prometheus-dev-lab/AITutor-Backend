{
 "cells": [
  {
   "cell_type": "code",
   "execution_count": 1,
   "metadata": {},
   "outputs": [
    {
     "name": "stdout",
     "output_type": "stream",
     "text": [
      "{'Chapters': [{'title': 'Introduction to Agent AI', 'overview': 'This chapter serves as an introductory guide to the world of Agent AI, exploring the foundational concepts critical to understanding the field. Students will learn about intelligence, agency, autonomy, and rationality—concepts that underpin the functioning and design of intelligent agents.', 'outcomes': 'After studying this chapter, students should be able to define and explain the key fundamental concepts of Agent AI, including intelligence, agency, autonomy, and rationality, and understand their interrelations and importance in the design of AI systems.', 'concepts': ['Intelligence', 'Agency', 'Autonomy', 'Rationality']}, {'title': 'Types of Agents', 'overview': 'This chapter categorizes the different types of agents used in AI, from simple reflex agents to more complex learning agents. Students will understand how agents differ in capabilities and functions and their suitability for various tasks.', 'outcomes': 'By the end of this chapter, students should be able to identify and differentiate between various types of agents, describing the characteristics and practical uses of each type.', 'concepts': ['Simple Reflex Agents', 'Model-Based Reflex Agents', 'Goal-Based Agents', 'Utility-Based Agents', 'Learning Agents']}, {'title': 'Agent Environments', 'overview': 'Delve into the various environments in which agents operate. This chapter explains the attributes of these environments and how they influence agent design and functionality.', 'outcomes': 'Students should be able to classify and describe different agent environments, understanding the implications of these environments on agent behavior and performance.', 'concepts': ['Fully Observable vs. Partially Observable', 'Deterministic vs. Stochastic', 'Episodic vs. Sequential', 'Static vs. Dynamic', 'Discrete vs. Continuous', 'Single-Agent vs. Multi-Agent']}, {'title': 'Agent Architecture', 'overview': 'Understanding the architecture of agents is crucial. This chapter covers how perception, decision-making, and action frameworks combine to form the architecture of an agent.', 'outcomes': 'Students should be able to explain the components of agent architecture and how they function together to create effective AI systems.', 'concepts': ['Perception', 'Decision Making', 'Action']}, {'title': 'Learning in Agents', 'overview': 'This chapter introduces the learning methods applicable to agents, discussing how agents can adapt and improve using different types of learning processes such as supervised, unsupervised, and reinforcement learning.', 'outcomes': 'Students should be able to compare and contrast the different learning methods used in AI and understand their applications in developing adaptive and intelligent agents.', 'concepts': ['Supervised Learning', 'Unsupervised Learning', 'Reinforcement Learning']}, {'title': 'Agent Programming', 'overview': 'Explore the programming languages and frameworks essential for developing agents. This chapter examines the tools and technologies used to build and implement intelligent agents.', 'outcomes': 'Upon completion, students should be proficient in identifying appropriate programming languages and frameworks for agent development and understand their roles in building AI applications.', 'concepts': ['Languages (e.g., Python, Java)', 'Frameworks (e.g., TensorFlow, PyTorch)']}, {'title': 'Applications of Agent AI', 'overview': 'This chapter explores the practical applications of agent AI across various fields such as robotics, natural language processing, and autonomous vehicles.', 'outcomes': 'Students should be able to identify and describe different real-world applications of agent AI and the significance of agents in these contexts.', 'concepts': ['Robotics', 'Natural Language Processing', 'Computer Vision', 'Game AI', 'Autonomous Vehicles']}, {'title': 'Ethical Considerations in AI', 'overview': 'Ethics play a critical role in AI development. This chapter covers the ethical considerations in AI, focusing on safety, bias, and governance issues.', 'outcomes': 'Students should be able to articulate the ethical challenges AI poses, including safety concerns, bias, and governance, and propose approaches to address these issues.', 'concepts': ['AI Safety', 'Bias in AI', 'AI Governance']}, {'title': 'Related AI Concepts', 'overview': 'Broaden the horizon with an exploration of related AI concepts that complement the study of agent AI, including machine learning and neural networks, among others.', 'outcomes': 'Students should gain insight into how related AI concepts like machine learning and neural networks integrate with agent AI, understanding their roles and impacts on the development of intelligent systems.', 'concepts': ['Machine Learning', 'Neural Networks', 'Expert Systems', 'Fuzzy Logic', 'Genetic Algorithms']}, {'title': 'Philosophical Aspects of AI', 'overview': 'Engage in philosophical discussions concerning AIs nature and capabilities, exploring concepts such as weak AI vs. strong AI, the Turing test, and the possibility of Artificial General Intelligence (AGI).', 'outcomes': 'Students should be able to engage in critical discussions about the philosophical implications and future possibilities of AI, including the distinctions between weak and strong AI and the concept of AGI.', 'concepts': ['Weak AI vs. Strong AI', 'The Turing Test', 'Artificial General Intelligence (AGI)']}]}\n"
     ]
    },
    {
     "name": "stderr",
     "output_type": "stream",
     "text": [
      "/home/blazekin/miniconda3/envs/aitutor/lib/python3.10/site-packages/tqdm/auto.py:21: TqdmWarning: IProgress not found. Please update jupyter and ipywidgets. See https://ipywidgets.readthedocs.io/en/stable/user_install.html\n",
      "  from .autonotebook import tqdm as notebook_tqdm\n"
     ]
    }
   ],
   "source": [
    "import os\n",
    "import json\n",
    "import pickle as pkl\n",
    "\n",
    "from AITutor_Backend.src.TutorUtils.concepts import Concept, ConceptDatabase\n",
    "from AITutor_Backend.src.TutorUtils.notebank import NoteBank\n",
    "\n",
    "from AITutor_Backend.src.TutorUtils.Modules.slides import Slide, SlidePlanner\n",
    "\n",
    "from AITutor_Backend.src.TutorUtils.tutor_objs import Chapter, Lesson, TutorObjManager\n",
    "\n",
    "# from AITutor_Backend.src.TutorUtils.questions import Question, QuestionSuite\n",
    "\n",
    "\n",
    "SAVE_DATA_PATH = \"AITutor_Backend/data/saved_sessions/\"\n",
    "MAIN_CONCEPT  = \"Agent AI\""
   ]
  },
  {
   "cell_type": "code",
   "execution_count": 2,
   "metadata": {},
   "outputs": [
    {
     "data": {
      "text/plain": [
       "\"**NoteBank**:\\n\\t0. [System] User expresses interest in learning about agent AI.\\n\\t1. [System] Main Concept: Agent AI\\n\\t2. [System] Student wants to learn about agent AI\\n\\t3. [Tutor] Tutor needs to gauge student's background knowledge in artificial intelligence and computer science.\\n\\t4. [Tutor] Tutor should ask student about their specific interests in agent AI and any particular agent types or applications they want to learn about.\\n\\t5. [Tutor] Tutor should inquire about the student's goals in learning about agent AI.\\n\\t6. [Tutor] Tutor should ask student about their preference for a theoretical or practical approach to learning agent AI.\\n\\t7. [Tutor] Tutor should ask student about their familiarity with programming languages or tools used in AI development.\\n\\t8. [Tutor] Tutor should gauge student's current understanding of agent AI concept to create a targeted learning plan.\\n\\t9. [Tutor] Tutor should document their responses and preferences in the Notebank for future reference.\""
      ]
     },
     "execution_count": 2,
     "metadata": {},
     "output_type": "execute_result"
    }
   ],
   "source": [
    "NOTEBANK_DATA = \"\"\"[\n",
    "    {\n",
    "        \"emitter\": \"System\",\n",
    "        \"data\": \"User expresses interest in learning about agent AI.\"\n",
    "    },\n",
    "    {\n",
    "        \"emitter\": \"System\",\n",
    "        \"data\": \"Main Concept: Agent AI\"\n",
    "    },\n",
    "    {\n",
    "        \"emitter\": \"System\",\n",
    "        \"data\": \"Student wants to learn about agent AI\"\n",
    "    },\n",
    "    {\n",
    "        \"emitter\": \"Tutor\",\n",
    "        \"data\": \"Tutor needs to gauge student's background knowledge in artificial intelligence and computer science.\"\n",
    "    },\n",
    "    {\n",
    "        \"emitter\": \"Tutor\",\n",
    "        \"data\": \"Tutor should ask student about their specific interests in agent AI and any particular agent types or applications they want to learn about.\"\n",
    "    },\n",
    "    {\n",
    "        \"emitter\": \"Tutor\",\n",
    "        \"data\": \"Tutor should inquire about the student's goals in learning about agent AI.\"\n",
    "    },\n",
    "    {\n",
    "        \"emitter\": \"Tutor\",\n",
    "        \"data\": \"Tutor should ask student about their preference for a theoretical or practical approach to learning agent AI.\"\n",
    "    },\n",
    "    {\n",
    "        \"emitter\": \"Tutor\",\n",
    "        \"data\": \"Tutor should ask student about their familiarity with programming languages or tools used in AI development.\"\n",
    "    },\n",
    "    {\n",
    "        \"emitter\": \"Tutor\",\n",
    "        \"data\": \"Tutor should gauge student's current understanding of agent AI concept to create a targeted learning plan.\"\n",
    "    },\n",
    "    {\n",
    "        \"emitter\": \"Tutor\",\n",
    "        \"data\": \"Tutor should document their responses and preferences in the Notebank for future reference.\"\n",
    "    }\n",
    "]\"\"\"\n",
    "\n",
    "notebank = NoteBank.from_sql(NOTEBANK_DATA)\n",
    "notebank.env_string()"
   ]
  },
  {
   "cell_type": "code",
   "execution_count": 3,
   "metadata": {},
   "outputs": [],
   "source": [
    "os.makedirs(os.path.join(SAVE_DATA_PATH, MAIN_CONCEPT), exist_ok=True)"
   ]
  },
  {
   "cell_type": "code",
   "execution_count": 4,
   "metadata": {},
   "outputs": [
    {
     "name": "stdout",
     "output_type": "stream",
     "text": [
      "Agent AI\n",
      "\tFundamental Concepts\n",
      "\t\tIntelligence\n",
      "\n",
      "\t\tAgency\n",
      "\n",
      "\t\tAutonomy\n",
      "\n",
      "\t\tRationality\n",
      "\n",
      "\tTypes of Agents\n",
      "\t\tSimple Reflex Agents\n",
      "\n",
      "\t\tModel-Based Reflex Agents\n",
      "\n",
      "\t\tGoal-Based Agents\n",
      "\n",
      "\t\tUtility-Based Agents\n",
      "\n",
      "\t\tLearning Agents\n",
      "\n",
      "\tAgent Environments\n",
      "\t\tFully Observable vs. Partially Observable\n",
      "\n",
      "\t\tDeterministic vs. Stochastic\n",
      "\n",
      "\t\tEpisodic vs. Sequential\n",
      "\n",
      "\t\tStatic vs. Dynamic\n",
      "\n",
      "\t\tDiscrete vs. Continuous\n",
      "\n",
      "\t\tSingle-Agent vs. Multi-Agent\n",
      "\n",
      "\tAgent Architecture\n",
      "\t\tPerception\n",
      "\n",
      "\t\tDecision Making\n",
      "\n",
      "\t\tAction\n",
      "\n",
      "\tLearning in Agents\n",
      "\t\tSupervised Learning\n",
      "\n",
      "\t\tUnsupervised Learning\n",
      "\n",
      "\t\tReinforcement Learning\n",
      "\n",
      "\tAgent Programming\n",
      "\t\tLanguages (e.g., Python, Java)\n",
      "\n",
      "\t\tFrameworks (e.g., TensorFlow, PyTorch)\n",
      "\n",
      "\tApplications of Agent AI\n",
      "\t\tRobotics\n",
      "\n",
      "\t\tNatural Language Processing\n",
      "\n",
      "\t\tComputer Vision\n",
      "\n",
      "\t\tGame AI\n",
      "\n",
      "\t\tAutonomous Vehicles\n",
      "\n",
      "\tEthical Considerations\n",
      "\t\tAI Safety\n",
      "\n",
      "\t\tBias in AI\n",
      "\n",
      "\t\tAI Governance\n",
      "Related AI Concepts\n",
      "\tMachine Learning\n",
      "\n",
      "\tNeural Networks\n",
      "\n",
      "\tExpert Systems\n",
      "\n",
      "\tFuzzy Logic\n",
      "\n",
      "\tGenetic Algorithms\n",
      "Philosophical Aspects\n",
      "\tWeak AI vs. Strong AI\n",
      "\n",
      "\tThe Turing Test\n",
      "\n",
      "\tArtificial General Intelligence (AGI)\n",
      "\n"
     ]
    }
   ],
   "source": [
    "concept_db = ConceptDatabase(MAIN_CONCEPT, notebank.env_string())\n",
    "\n",
    "if os.path.exists(os.path.join(SAVE_DATA_PATH, MAIN_CONCEPT, \"concept_database.pkl\")):\n",
    "    with open(os.path.join(SAVE_DATA_PATH, MAIN_CONCEPT, \"concept_database.pkl\"), \"rb\") as f:\n",
    "        concept_db = pkl.load(f)\n",
    "else:\n",
    "    concept_db.generate_concept_graph()\n",
    "    concept_db.generate_concepts()\n",
    "    with open(os.path.join(SAVE_DATA_PATH, MAIN_CONCEPT, \"concept_database.pkl\"), \"wb\") as f:\n",
    "        pkl.dump(concept_db, f)\n",
    "\n",
    "print(\n",
    "    concept_db.get_concept_graph_str()\n",
    ")"
   ]
  },
  {
   "cell_type": "code",
   "execution_count": 5,
   "metadata": {},
   "outputs": [
    {
     "name": "stderr",
     "output_type": "stream",
     "text": [
      "Encoding: 100%|██████████| 1/1 [00:00<00:00,  6.47it/s]\n",
      "Encoding: 100%|██████████| 2/2 [00:00<00:00, 89.53it/s]\n"
     ]
    },
    {
     "name": "stdout",
     "output_type": "stream",
     "text": [
      "[DBG] Chapter Data: {'Chapters': [{'title': 'Introduction to Agent AI', 'overview': 'This chapter introduces Agent AI, focusing on its fundamental concepts and foundational framework. Learners will gain a comprehensive understanding of essential attributes such as intelligence, agency, autonomy, and rationality, which form the core of Agent AIs functionality and purpose.', 'outcomes': 'By the end of this chapter, students should be able to define and explain intelligence, agency, autonomy, and rationality in the context of Agent AI. Students will also demonstrate an understanding of how these components integrate to create an effective agent capable of interacting with complex environments.', 'concepts': ['Intelligence', 'Agency', 'Autonomy', 'Rationality']}, {'title': 'Types of Agents', 'overview': 'Delving into the evolution and diversity of agents, this chapter details the various types of agents used in AI. Students will explore the progression from simple reflex agents to more advanced learning agents, including model-based reflex, goal-based, and utility-based agents.', 'outcomes': 'Students will be able to distinguish between different agent types and describe their inner workings. They will assess scenarios and determine appropriate agent types for specific tasks and environments.', 'concepts': ['Simple Reflex Agents', 'Model-Based Reflex Agents', 'Goal-Based Agents', 'Utility-Based Agents', 'Learning Agents']}, {'title': 'Agent Environments', 'overview': 'Agents operate within distinct environments with unique characteristics. This chapter covers the various attributes of agent environments, examining how perception and interaction change based on different environmental properties.', 'outcomes': 'Students should be able to identify and categorize environment types, such as fully versus partially observable and deterministic versus stochastic settings, among others. They will learn to analyze how these attributes influence agent behavior and decision-making processes.', 'concepts': ['Fully Observable vs. Partially Observable', 'Deterministic vs. Stochastic', 'Episodic vs. Sequential', 'Static vs. Dynamic', 'Discrete vs. Continuous', 'Single-Agent vs. Multi-Agent']}, {'title': 'Agent Architecture', 'overview': 'This chapter focuses on the structural components of an agents architecture, encompassing perception, decision-making, and action. Students will understand the integration of these components in creating a cohesive and functional agent.', 'outcomes': 'Students should be able to describe the process of perception, decision-making, and action in agents. They will learn how these aspects collaborate to enable an agent to operate effectively within its environment.', 'concepts': ['Perception', 'Decision Making', 'Action']}, {'title': 'Learning in Agents', 'overview': 'Explore the learning paradigms embedded within agents to enhance their adaptability and performance. This chapter details the methodologies of supervised, unsupervised, and reinforcement learning as applied to agents.', 'outcomes': 'Students will be able to differentiate between various learning types and apply appropriate learning techniques to improve agent functionality. They will evaluate learning outcomes and modify strategies to optimize agent performance.', 'concepts': ['Supervised Learning', 'Unsupervised Learning', 'Reinforcement Learning']}, {'title': 'Agent Programming', 'overview': 'Focusing on the practical creation of AI agents, this chapter highlights essential programming languages and frameworks used in agent development, providing a toolkit for building capable and efficient agents.', 'outcomes': 'Students will gain knowledge of popular programming languages and frameworks for agent AI. They will develop simple agent programs and leverage frameworks like TensorFlow and PyTorch to design and implement agent behaviors.', 'concepts': ['Languages (e.g., Python, Java)', 'Frameworks (e.g., TensorFlow, PyTorch)']}, {'title': 'Applications of Agent AI', 'overview': 'This chapter explores real-world applications of agent AI across diverse industries, such as robotics, natural language processing, and autonomous vehicles, illustrating the broad impact and potential of Agent AI technologies.', 'outcomes': 'Students should be able to identify and describe various applications of Agent AI, understanding how agents are tailored for specific purposes in sectors like robotics or game AI. They will evaluate case studies to gain insights into successful implementations.', 'concepts': ['Robotics', 'Natural Language Processing', 'Computer Vision', 'Game AI', 'Autonomous Vehicles']}, {'title': 'Ethical Considerations', 'overview': 'This chapter addresses the ethical dimensions of deploying agent AI, highlighting concerns surrounding AI safety, bias, and governance. Learners will explore the responsibilities and challenges posed by AI technologies.', 'outcomes': 'Students will understand ethical issues associated with AI, such as bias and safety. They will learn about frameworks governing AI deployment and implement strategies to mitigate ethical challenges.', 'concepts': ['AI Safety', 'Bias in AI', 'AI Governance']}, {'title': 'Related AI Concepts', 'overview': 'Expanding on the foundational knowledge of agents, this chapter links related AI concepts such as machine learning, neural networks, expert systems, fuzzy logic, and genetic algorithms to the broader AI landscape.', 'outcomes': 'Students will relate various AI concepts to agent AI, understanding how these technologies integrate and complement each other. They will gain an appreciation for the multidisciplinary nature of AI development.', 'concepts': ['Machine Learning', 'Neural Networks', 'Expert Systems', 'Fuzzy Logic', 'Genetic Algorithms']}, {'title': 'Philosophical Aspects of AI', 'overview': 'Venture into the philosophical debate surrounding AI with this chapter, covering topics like the Turing Test, Weak AI vs. Strong AI, and Artificial General Intelligence (AGI), encouraging students to reflect on AIs future potential and implications.', 'outcomes': 'Students will critically assess philosophical questions in AI, articulating informed opinions on AIs current and future capabilities. They will evaluate the prospects and ethical concerns related to AGI and the benchmarks for assessing AIs intelligence.', 'concepts': ['Weak AI vs. Strong AI', 'The Turing Test', 'Artificial General Intelligence (AGI)']}]}\n",
      "10\n"
     ]
    },
    {
     "name": "stderr",
     "output_type": "stream",
     "text": [
      "Encoding: 100%|██████████| 1/1 [00:00<00:00, 42.61it/s]\n",
      "Encoding: 100%|██████████| 1/1 [00:00<00:00, 80.66it/s]\n",
      "Encoding: 100%|██████████| 1/1 [00:00<00:00, 62.15it/s]\n"
     ]
    },
    {
     "name": "stdout",
     "output_type": "stream",
     "text": [
      "[DBG] Question Data: {'subject': 'CONCEPTUAL', 'type': 'TEXT_ENTRY', 'question': 'Define intelligence in the context of Agent AI and explain how it differs from human intelligence.', 'instructions': 'In your response, provide a detailed definition of intelligence as it applies to Agent AI. Discuss at least three key differences between Agent AI intelligence and human intelligence, focusing on aspects such as decision-making, emotional understanding, and learning processes.', 'rubric': [{'criterion': 'Definition of Intelligence', 'description': 'Provide a clear and comprehensive definition of intelligence in the context of Agent AI.', 'points': 1}, {'criterion': 'Differences between AI and Human Intelligence', 'description': 'Identify and explain at least three significant differences between Agent AI intelligence and human intelligence.', 'points': 2}, {'criterion': 'Examples and Supporting Details', 'description': 'Include relevant examples or case studies that illustrate the differences discussed.', 'points': 1}, {'criterion': 'Clarity and Organization', 'description': 'Ensure that the response is well-organized, coherent, and clearly articulates the ideas with appropriate academic language.', 'points': 1}]}\n",
      "[DBG] Question Data: {'subject': 'MATH', 'type': 'MULTIPLE_CHOICE', 'question': 'Which of the following best represents a key characteristic of agency in AI systems?', 'instructions': 'Select the best answer that describes a key characteristic of agency in AI systems. Consider the implications of autonomy and decision-making capabilities of AI.', 'entry_1': 'Agency in AI systems refers to their ability to operate without any input or direction from humans.', 'entry_2': 'Agency means that AI systems can autonomously make decisions based on their programming and learned experiences.', 'entry_3': 'Agency is primarily concerned with the ethical guidelines in AI development rather than decision-making abilities.', 'entry_4': 'Agency indicates that AI systems can replicate human emotions and motivations.', 'correct_entry': 'entry_2'}\n",
      "[DBG] Question Data: {'subject': 'CONCEPTUAL', 'type': 'TEXT_ENTRY', 'question': 'Explain how the concepts of intelligence and agency work together to create an effective AI agent. Discuss specific examples that illustrate the interplay between these two concepts.', 'instructions': 'In your response, define both intelligence and agency in the context of AI. Discuss how these concepts interact to enhance the capabilities of AI agents. Include specific examples or applications where this interplay can be observed.', 'rubric': [{'criterion': 'Definition of Concepts', 'description': 'Clear and accurate definitions of intelligence and agency as they pertain to AI.', 'points': 1}, {'criterion': 'Integration of Concepts', 'description': 'Insightful discussion on how intelligence and agency complement each other to enhance AI effectiveness.', 'points': 2}, {'criterion': 'Use of Examples', 'description': 'Relevant examples that effectively illustrate the relationship between intelligence and agency in AI agents.', 'points': 1}, {'criterion': 'Clarity and Coherency', 'description': 'Well-organized, clear writing that effectively communicates ideas with few grammatical errors.', 'points': 1}]}\n",
      "[DBG] Question Data: {'subject': 'CODE', 'type': 'CODE_ENTRY', 'question': \"### Demonstrating Basic Agency in an AI Agent\\n\\nWrite a Python function `follow_command` that simulates a simple AI agent capable of following basic commands. The function should take a command as input and return the corresponding action based on the command given.\\n\\n#### Function Signature:\\n```python\\ndef follow_command(command: str) -> str:\\n```\\n\\n#### Input:\\n- `command`: A string representing a command that the AI agent needs to follow. Possible values are 'turn left', 'turn right', 'move forward', stop'.\\n\\n#### Output:\\n- The function should return a string describing the action taken by the agent. If the command is not recognized, it should return 'Command not recognized'.\\n\\n#### Constraints:\\n- The input command will always be a non-empty string.\\n\\n#### Concepts Being Tested:\\n- Understanding of string handling and conditional statements in Python.\\n\\n#### Hint:\\nConsider using conditional statements to handle the different commands.\", 'boilerplate': \"def follow_command(command: str) -> str:\\n    # Your code here\\n    pass\\n\\n# Example usage\\nprint(follow_command('turn left'))  # Should output: 'Turning left'\", 'test_case_script': \"def test_follow_command():\\n    assert follow_command('turn left') == 'Turning left'\\n    assert follow_command('turn right') == 'Turning right'\\n    assert follow_command('move forward') == 'Moving forward'\\n    assert follow_command(stop') == 'Stopping'\\n    assert follow_command('fly') == 'Command not recognized'\\n    print('All test cases passed!')\\n\\ntest_follow_command()\"}\n",
      "[DBG] Question Data: {'subject': 'CONCEPTUAL', 'type': 'MULTIPLE_CHOICE', 'question': 'Which of the following scenarios best illustrates the concept of rationality in Agent AI?', 'entry_1': 'An Agent AI that chooses to ignore a potential danger because it is programmed to follow only its primary objective, leading to unintended consequences.', 'entry_2': 'An Agent AI that evaluates multiple paths to achieve its goal, weighing the risks and rewards of each option before making a decision.', 'entry_3': 'An Agent AI that acts randomly without considering the context or possible outcomes of its actions.', 'entry_4': 'An Agent AI that consistently selects the first available option without assessing its effectiveness or cost.', 'correct_entry': 'entry_2'}\n"
     ]
    },
    {
     "name": "stderr",
     "output_type": "stream",
     "text": [
      "WARNING:root:Literature Question is not yet supported: {'subject': 'LITERATURE', 'type': 'TEXT_ENTRY', 'question': 'Analyze the excerpt from a sci-fi novel featuring AI agents and identify elements that represent intelligence, agency, and autonomy. Discuss how these themes are depicted through the characters and plot.', 'instructions': 'Write a detailed analysis that highlights the portrayal of intelligence, agency, and autonomy within the excerpt. Focus on how the AI agents demonstrate these qualities through their actions and interactions. Use specific examples from the text to support your analysis.', 'rubric': [{'criterion': 'Identification of Themes', 'description': 'Clear identification of the themes of intelligence, agency, and autonomy as presented in the excerpt.', 'points': 1}, {'criterion': 'Textual Evidence', 'description': 'Use of specific examples from the text to support claims about the themes.', 'points': 2}, {'criterion': 'Analysis Depth', 'description': 'In-depth analysis discussing how the themes relate to each other and their significance in the context of the narrative.', 'points': 1}, {'criterion': 'Writing Quality', 'description': 'Clarity, organization, and grammar of the written response.', 'points': 1}], 'boilerplate_code': {'function': 'analyze_excerpt(excerpt: str) -> str', 'examples': [{'input': \"analyze_excerpt('In this passage, the AI demonstrates learning through...')\", 'output': \"'The AI exhibits intelligence by...' \"}, {'input': \"analyze_excerpt('The interactions show the autonomy of the AI...')\", 'output': \"'These interactions highlight the concept of agency because...'\"}]}, 'test_cases': [{'test_case': \"analyze_excerpt('The AI agent takes initiative and makes decisions without human prompts.') == 'This shows a clear representation of agency and autonomy, as the AI acts independently.'\", 'output': True}, {'test_case': \"analyze_excerpt('The AI struggles to adapt in different scenarios.') == 'This example illustrates the limits of intelligence in artificial agents.'\", 'output': True}]}\n"
     ]
    },
    {
     "name": "stdout",
     "output_type": "stream",
     "text": [
      "[DBG] Question Data: {'subject': 'LITERATURE', 'type': 'TEXT_ENTRY', 'question': 'Analyze the excerpt from a sci-fi novel featuring AI agents and identify elements that represent intelligence, agency, and autonomy. Discuss how these themes are depicted through the characters and plot.', 'instructions': 'Write a detailed analysis that highlights the portrayal of intelligence, agency, and autonomy within the excerpt. Focus on how the AI agents demonstrate these qualities through their actions and interactions. Use specific examples from the text to support your analysis.', 'rubric': [{'criterion': 'Identification of Themes', 'description': 'Clear identification of the themes of intelligence, agency, and autonomy as presented in the excerpt.', 'points': 1}, {'criterion': 'Textual Evidence', 'description': 'Use of specific examples from the text to support claims about the themes.', 'points': 2}, {'criterion': 'Analysis Depth', 'description': 'In-depth analysis discussing how the themes relate to each other and their significance in the context of the narrative.', 'points': 1}, {'criterion': 'Writing Quality', 'description': 'Clarity, organization, and grammar of the written response.', 'points': 1}], 'boilerplate_code': {'function': 'analyze_excerpt(excerpt: str) -> str', 'examples': [{'input': \"analyze_excerpt('In this passage, the AI demonstrates learning through...')\", 'output': \"'The AI exhibits intelligence by...' \"}, {'input': \"analyze_excerpt('The interactions show the autonomy of the AI...')\", 'output': \"'These interactions highlight the concept of agency because...'\"}]}, 'test_cases': [{'test_case': \"analyze_excerpt('The AI agent takes initiative and makes decisions without human prompts.') == 'This shows a clear representation of agency and autonomy, as the AI acts independently.'\", 'output': True}, {'test_case': \"analyze_excerpt('The AI struggles to adapt in different scenarios.') == 'This example illustrates the limits of intelligence in artificial agents.'\", 'output': True}]}\n",
      "[DBG] Question Data: {'subject': 'Rationality and Agency in AI', 'type': 'CALCULATION_ENTRY', 'question': 'Given the following set of possible actions for an AI agent and their expected utilities, which action should the agent choose to maximize utility? Actions and utilities: Action A has a utility of 10, Action B has a utility of 15, and Action C has a utility of 8. Write a Python script that calculates the action with the highest utility.', 'calculation_script': \"import math\\n\\naction_utilities = {\\n    'Action A': 10,\\n    'Action B': 15,\\n    'Action C': 8\\n}\\n\\n# Find the action with the maximum utility\\nmax_action = max(action_utilities, key=action_utilities.get)\\nmax_utility = action_utilities[max_action]\\n\\n# Print the result\\nprint(f'The best action is {max_action} with a utility of {max_utility}.')\"}\n",
      "[DBG] Question Data: {'subject': 'CONCEPTUAL', 'type': 'TEXT_ENTRY', 'question': 'Compare and contrast the concepts of agency and autonomy in the context of Agent AI. Consider how each concept influences decision-making and behavior in AI systems.', 'instructions': 'In your response, define agency and autonomy, then discuss their similarities and differences, particularly in relation to Agent AI. Provide examples to support your arguments.', 'rubric': [{'criterion': 'Definitions', 'description': 'Clear and accurate definitions of both agency and autonomy within the context of Agent AI.', 'points': 1}, {'criterion': 'Comparative Analysis', 'description': 'Insightful comparison and contrast of agency and autonomy, discussing their influence on AI systems.', 'points': 2}, {'criterion': 'Use of Examples', 'description': 'Relevant and well-explained examples to illustrate points made in the analysis.', 'points': 1}, {'criterion': 'Critical Thinking', 'description': 'Demonstrates critical thinking in discussing the implications of agency and autonomy for AI development and ethics.', 'points': 1}]}\n",
      "[DBG] Question Data: {'subject': 'MATH', 'type': 'CALCULATION_ENTRY', 'question': 'Calculate the intelligence quotient (IQ) of an AI agent based on its performance in various tasks. The IQ is defined as the ratio of the AI agents mental age to its chronological age, multiplied by 100. If an AI agent performs tasks equivalent to that of a 15-year-old, and its chronological age is 10 years, find its IQ.', 'calculation_script': '# Import necessary modules\\nimport math\\n\\n# Define the performance metrics\\nmental_age = 15  # Age equivalent based on performance\\nchronological_age = 10  # Actual age of the AI agent\\n\\n# Calculate IQ\\nif chronological_age > 0:  # Prevent division by zero\\n    iq = (mental_age / chronological_age) * 100\\nelse:\\n    iq = None  # Handle edge case for zero chronological age\\n\\n# Print the final result\\nprint(round(iq, 2))'}\n",
      "[<AITutor_Backend.src.TutorUtils.tutor_objs.Chapter object at 0x79c8799162c0>, <AITutor_Backend.src.TutorUtils.tutor_objs.Chapter object at 0x79c879917c10>, <AITutor_Backend.src.TutorUtils.tutor_objs.Chapter object at 0x79c879915960>, <AITutor_Backend.src.TutorUtils.tutor_objs.Chapter object at 0x79c879917460>, <AITutor_Backend.src.TutorUtils.tutor_objs.Chapter object at 0x79c8799175e0>, <AITutor_Backend.src.TutorUtils.tutor_objs.Chapter object at 0x79c879917340>, <AITutor_Backend.src.TutorUtils.tutor_objs.Chapter object at 0x79c79d30eec0>, <AITutor_Backend.src.TutorUtils.tutor_objs.Chapter object at 0x79c79d30ed40>, <AITutor_Backend.src.TutorUtils.tutor_objs.Chapter object at 0x79c79d30c820>, <AITutor_Backend.src.TutorUtils.tutor_objs.Chapter object at 0x79c79d30edd0>]\n"
     ]
    }
   ],
   "source": [
    "obj_manager = TutorObjManager(notebank, concept_db)\n",
    "\n",
    "\n",
    "if False and os.path.exists(os.path.join(SAVE_DATA_PATH, MAIN_CONCEPT, \"obj_manager.pkl\")):\n",
    "    with open(os.path.join(SAVE_DATA_PATH, MAIN_CONCEPT, \"obj_manager.pkl\"), \"rb\") as f:\n",
    "        obj_manager = pkl.load(f)\n",
    "    print(obj_manager.num_chapters)\n",
    "    print(obj_manager.Chapters[0])\n",
    "\n",
    "else:\n",
    "    obj_manager.generate_chapters() # Generates C Chapters\n",
    "    print(obj_manager.num_chapters)\n",
    "    obj_manager.initialize_chapter(0) # Takes Chapter[0], Creates L Lessons => (Outcomes, Slides, Questions)\n",
    "    \n",
    "    with open(os.path.join(SAVE_DATA_PATH, MAIN_CONCEPT, \"obj_manager.pkl\"), \"wb\") as f:\n",
    "        pkl.dump(obj_manager, f)\n",
    "\n",
    "print(\n",
    "    obj_manager.Chapters\n",
    ")"
   ]
  },
  {
   "cell_type": "code",
   "execution_count": 8,
   "metadata": {},
   "outputs": [],
   "source": [
    "import json\n",
    "with open(\"debug_obj_manager.json\", \"w\") as f:\n",
    "    f.write(json.dumps(obj_manager.format_json(), indent=2))\n"
   ]
  }
 ],
 "metadata": {
  "kernelspec": {
   "display_name": "aitutor",
   "language": "python",
   "name": "python3"
  },
  "language_info": {
   "codemirror_mode": {
    "name": "ipython",
    "version": 3
   },
   "file_extension": ".py",
   "mimetype": "text/x-python",
   "name": "python",
   "nbconvert_exporter": "python",
   "pygments_lexer": "ipython3",
   "version": "3.10.15"
  }
 },
 "nbformat": 4,
 "nbformat_minor": 2
}
